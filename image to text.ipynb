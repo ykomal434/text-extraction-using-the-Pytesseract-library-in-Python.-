{
 "cells": [
  {
   "cell_type": "markdown",
   "id": "7dedc287",
   "metadata": {},
   "source": [
    "# text extraction from images or scanned documents using pytesseract\n"
   ]
  },
  {
   "cell_type": "markdown",
   "id": "5d721411",
   "metadata": {},
   "source": [
    "Install pytesseract and the required dependencies:\n",
    "\n",
    "You'll need to install pytesseract, which is a Python wrapper for Google's Tesseract-OCR engine, and the Pillow library for image processing. You can install them using pip:\n",
    "\n",
    "\n",
    "\n",
    "Install Tesseract-OCR:\n",
    "\n",
    "You also need to install the Tesseract-OCR engine. You can download the installer for your operating system from the Tesseract GitHub repository: https://github.com/tesseract-ocr/tesseract\n",
    "\n",
    "Import the necessary libraries:\n",
    "\n",
    "In your Python script, import the pytesseract and Pillow libraries:\n"
   ]
  },
  {
   "cell_type": "code",
   "execution_count": 1,
   "id": "3fd22c6e",
   "metadata": {},
   "outputs": [],
   "source": [
    "#import the libraries\n",
    "#pip install pytesseract\n",
    "import pytesseract\n",
    "import pkg_resources\n",
    "import cv2\n",
    "from PIL import Image\n",
    "import Levenshtein\n",
    "import numpy as np"
   ]
  },
  {
   "cell_type": "markdown",
   "id": "e196689d",
   "metadata": {},
   "source": [
    " importing necessary libraries. \n",
    " pytesseract is used for optical character recognition (OCR), \n",
    " PIL (Python Imaging Library) is used for opening and manipulating images,\n",
    " and Levenshtein is used for calculating the edit distance between two strings.\n",
    " \n",
    " \n",
    " "
   ]
  },
  {
   "cell_type": "code",
   "execution_count": 2,
   "id": "afca14fa",
   "metadata": {},
   "outputs": [],
   "source": [
    "#declaring the exe path for tesseract\n",
    "pytesseract.pytesseract.tesseract_cmd=r\"C:\\Program Files\\Tesseract-OCR\\tesseract.exe\""
   ]
  },
  {
   "cell_type": "code",
   "execution_count": 3,
   "id": "dbc1609b",
   "metadata": {},
   "outputs": [
    {
     "name": "stdout",
     "output_type": "stream",
     "text": [
      "0.3.10\n"
     ]
    }
   ],
   "source": [
    "#printing the tesseract version\n",
    "print(pkg_resources.working_set.by_key['pytesseract'].version)\n"
   ]
  },
  {
   "cell_type": "code",
   "execution_count": 4,
   "id": "d0f8b479",
   "metadata": {},
   "outputs": [
    {
     "name": "stdout",
     "output_type": "stream",
     "text": [
      "4.7.0\n"
     ]
    }
   ],
   "source": [
    "#print the opencv version\n",
    "print(cv2.__version__)"
   ]
  },
  {
   "cell_type": "markdown",
   "id": "5296fb00",
   "metadata": {},
   "source": [
    "Load the image:\n",
    "\n",
    "Load the image from which you want to extract text using the Pillow library:\n"
   ]
  },
  {
   "cell_type": "code",
   "execution_count": 5,
   "id": "3f761e57",
   "metadata": {},
   "outputs": [],
   "source": [
    "#loading the image from the disk\n",
    "image_to_ocr = cv2.imread(r'C:\\Users\\Admin\\Downloads\\Certificate.png')\n"
   ]
  },
  {
   "cell_type": "markdown",
   "id": "cbd38fb6",
   "metadata": {},
   "source": [
    "#image dicription \n",
    "\n",
    "Name Of Image : Certificate\n",
    "\n",
    "type of file: PNG File (.png)\n",
    "\n",
    "size: 468 KB (479,406 bytes)\n",
    "\n",
    "dimension : 1008 x 1391\n",
    "\n",
    "height :1391 pixels\n",
    "\n",
    "weidth : 1008 pixels\n",
    "\n",
    "bit depth : 24"
   ]
  },
  {
   "cell_type": "code",
   "execution_count": 6,
   "id": "cd1f188e",
   "metadata": {},
   "outputs": [],
   "source": [
    "#preprocessing the image\n",
    "\n",
    "# step 1 : covert to grey scale\n",
    "preprocessed_img = cv2.cvtColor(image_to_ocr, cv2.COLOR_BGR2GRAY)\n"
   ]
  },
  {
   "cell_type": "code",
   "execution_count": 7,
   "id": "6591c0ac",
   "metadata": {},
   "outputs": [
    {
     "name": "stdout",
     "output_type": "stream",
     "text": [
      "Certificate No: FSSC CO-172602202239\n",
      "\n",
      "SafeFood Mitra Private Limited\n",
      "\n",
      "CERTIFICATE\n",
      "\n",
      "OF COMPLETION\n",
      "\n",
      "KOMAL YADAV\n",
      "\n",
      "has been awarded a Certificate of Completion for\n",
      "\n",
      "FSSC 22000 V5.1/ISO 22000:2018 Food Safety Management\n",
      "Systems awareness Training Course\n",
      "\n",
      "by passing the written examination and continuous assessment\n",
      "\n",
      "held Online\n",
      "completed on 17 February 2022 — 26 February 2022\n",
      "\n",
      "This course meets the formal training requirements for individuals seeking certification\n",
      "under FSSC 22000 V5.1/ISO 22000:2018 standard and for this purpose is valid for five\n",
      "years from the date of completion\n",
      "\n",
      "(\\eaehnt\n",
      "\n",
      "Director\n",
      "SafeFood Mitra Pvt Ltd\n",
      "\n",
      "Issued by SafeFood Mitra Pvt. Ltd. Registered in India; CIN: U74910RJ2020PTC068494\n",
      "Registered Office: SafeFood Mitra Pvt Ltd, PN-4;Shyam Vatika 3rd; Ved Ji Ka Chauraha\n",
      "Niwaru Road, Jhotwara, Jaipur, Rajasthan-302012\n",
      "\n",
      "www.safefoodmitra.com\n",
      "\n",
      "\n"
     ]
    }
   ],
   "source": [
    "#pass the image to tesseract to do OCR\n",
    "text_extracted = pytesseract.image_to_string(preprocessed_img)\n",
    "\n",
    "#print the text\n",
    "print(text_extracted)"
   ]
  },
  {
   "cell_type": "code",
   "execution_count": 8,
   "id": "edaab864",
   "metadata": {},
   "outputs": [],
   "source": [
    "with open('C:/Users/Admin/Downloads/Certificatetext.txt', 'r') as f:\n",
    "    reference = f.read().strip()\n",
    "    \n"
   ]
  },
  {
   "cell_type": "code",
   "execution_count": 9,
   "id": "45144f3f",
   "metadata": {},
   "outputs": [
    {
     "name": "stdout",
     "output_type": "stream",
     "text": [
      "Extracted text: Certificate No: FSSC CO-172602202239\n",
      "\n",
      "SafeFood Mitra Private Limited\n",
      "\n",
      "CERTIFICATE\n",
      "\n",
      "OF COMPLETION\n",
      "\n",
      "KOMAL YADAV\n",
      "\n",
      "has been awarded a Certificate of Completion for\n",
      "\n",
      "FSSC 22000 V5.1/ISO 22000:2018 Food Safety Management\n",
      "Systems awareness Training Course\n",
      "\n",
      "by passing the written examination and continuous assessment\n",
      "\n",
      "held Online\n",
      "completed on 17 February 2022 — 26 February 2022\n",
      "\n",
      "This course meets the formal training requirements for individuals seeking certification\n",
      "under FSSC 22000 V5.1/ISO 22000:2018 standard and for this purpose is valid for five\n",
      "years from the date of completion\n",
      "\n",
      "(\\eaehnt\n",
      "\n",
      "Director\n",
      "SafeFood Mitra Pvt Ltd\n",
      "\n",
      "Issued by SafeFood Mitra Pvt. Ltd. Registered in India; CIN: U74910RJ2020PTC068494\n",
      "Registered Office: SafeFood Mitra Pvt Ltd, PN-4;Shyam Vatika 3rd; Ved Ji Ka Chauraha\n",
      "Niwaru Road, Jhotwara, Jaipur, Rajasthan-302012\n",
      "\n",
      "www.safefoodmitra.com\n",
      "\n",
      "\n",
      "REFERENCE: Certificate No: FSSC CO-172602202239\n",
      "foot) +\n",
      "SafeFood Mitra Private Limited\n",
      "CERTIFICATE\n",
      "OF COMPLETION\n",
      "KOMAL YADAV\n",
      "has been awarded a Certificate of Completion for\n",
      "FSSC 22000 V5.1/lS0 22000:2018 Food Safety Management\n",
      "Systems awareness Training Course\n",
      "by passing the written examination and continuous assessment\n",
      "held Online\n",
      "completed on 17 February 2022 â€” 26 February 2022\n",
      "This course meets the formal training requirements for individuals seeking certification\n",
      "under FSSC 22000 V5.1/1SO 22000:2018 standard and for this purpose is valid for five\n",
      "years from the date of completion\n",
      "Director\n",
      "SafeFood Mitra Pvt Ltd\n",
      "CERTIFICATE\n",
      "Issued by SafeFood Mitra Pvt. Ltd. Registered in India; CIN: U74910RJ2020PTC068494\n",
      "Registered Office: SafeFood Mitra Pvt Ltd, PN-4;Shyam Vatika 3rd; Ved Ji Ka Chauraha\n",
      "Niwaru Road, Jhotwara, Jaipur, Rajasthan-302012\n",
      "wwwsafefoodmitra.com\n"
     ]
    }
   ],
   "source": [
    "    \n",
    "wer = Levenshtein.distance(text_extracted.lower(), reference.lower()) / len(reference.split())\n",
    "cer = Levenshtein.distance(text_extracted.lower(), reference.lower()) / len(reference.replace(' ', ''))\n",
    "\n",
    "print(f'Extracted text: {text_extracted}')\n",
    "print(f'REFERENCE: {reference}')\n"
   ]
  },
  {
   "cell_type": "code",
   "execution_count": 10,
   "id": "5c2e9539",
   "metadata": {},
   "outputs": [
    {
     "name": "stdout",
     "output_type": "stream",
     "text": [
      "WER: 0.3917\n",
      "CER: 0.0614\n"
     ]
    }
   ],
   "source": [
    "print(f'WER: {wer:.4f}')\n",
    "print(f'CER: {cer:.4f}')"
   ]
  },
  {
   "cell_type": "markdown",
   "id": "3ece0cf0",
   "metadata": {},
   "source": [
    "The required Word Error Rate (WER) or Character Error Rate (CER) for text extraction from an image depends on the specific application and use case. In general, a lower error rate indicates higher accuracy."
   ]
  },
  {
   "cell_type": "code",
   "execution_count": null,
   "id": "20c097fb",
   "metadata": {},
   "outputs": [],
   "source": []
  }
 ],
 "metadata": {
  "kernelspec": {
   "display_name": "Python 3 (ipykernel)",
   "language": "python",
   "name": "python3"
  },
  "language_info": {
   "codemirror_mode": {
    "name": "ipython",
    "version": 3
   },
   "file_extension": ".py",
   "mimetype": "text/x-python",
   "name": "python",
   "nbconvert_exporter": "python",
   "pygments_lexer": "ipython3",
   "version": "3.9.12"
  }
 },
 "nbformat": 4,
 "nbformat_minor": 5
}
